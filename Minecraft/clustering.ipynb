{
 "cells": [
  {
   "cell_type": "code",
   "execution_count": 1,
   "metadata": {},
   "outputs": [],
   "source": [
    "import gym\n",
    "import random\n",
    "from sklearn.cluster import KMeans\n",
    "import matplotlib.pyplot as plt\n",
    "import numpy as np"
   ]
  },
  {
   "cell_type": "code",
   "execution_count": 2,
   "metadata": {},
   "outputs": [
    {
     "name": "stderr",
     "output_type": "stream",
     "text": [
      "[2017-10-19 10:28:14,539] Making new env: MountainCar-v0\n"
     ]
    },
    {
     "name": "stdout",
     "output_type": "stream",
     "text": [
      "[0, 1, 2]\n"
     ]
    }
   ],
   "source": [
    "env = gym.make('MountainCar-v0')\n",
    "env.reset()\n",
    "VALID_ACTIONS = list(range(env.action_space.n))\n",
    "\n",
    "print VALID_ACTIONS"
   ]
  },
  {
   "cell_type": "code",
   "execution_count": 6,
   "metadata": {},
   "outputs": [
    {
     "name": "stdout",
     "output_type": "stream",
     "text": [
      "0.518968784771\n",
      "100000000000000000000\n",
      "0.589819472227\n",
      "100000000000000000000\n",
      "0.595133076717\n",
      "100000000000000000000\n",
      "0.572736071444\n",
      "100000000000000000000\n",
      "0.527202999493\n",
      "100000000000000000000\n",
      "0.541674395612\n",
      "100000000000000000000\n",
      "0.508525147761\n",
      "100000000000000000000\n",
      "[[ 1.38732071 -0.06531716]\n",
      " [-1.27188834  0.09231147]\n",
      " [ 3.05675507  0.01853286]\n",
      " [-0.09936378 -1.04063712]\n",
      " [ 0.07157478  1.00129399]]\n",
      "[0.51896878477110508, 0.58981947222667297, 0.59513307671664439, 0.57273607144380356, 0.52720299949314109, 0.541674395611769, 0.50852514776132385]\n"
     ]
    },
    {
     "data": {
      "image/png": "[encoded data removed]",
      "text/plain": [
       "<matplotlib.figure.Figure at 0x10e385450>"
      ]
     },
     "metadata": {},
     "output_type": "display_data"
    }
   ],
   "source": [
    "data = []\n",
    "goal_x_positions = []\n",
    "\n",
    "for episode in xrange(100):\n",
    "    state = env.reset()\n",
    "    state_copy = state[:]\n",
    "    state_copy = np.append(state_copy, -1)\n",
    "    data.append(state_copy)\n",
    "    done = False\n",
    "    step_count = 0\n",
    "    while not done:\n",
    "        step_count +=1\n",
    "        action = random.randint(0, len(VALID_ACTIONS) - 1)\n",
    "        next_state, reward, done, _ = env.step(action)\n",
    "        if reward >= 1:\n",
    "            reward = 100000000000000000000\n",
    "        state = next_state\n",
    "        state_copy = state[:]\n",
    "        state_copy = np.append(state_copy, reward)\n",
    "        data.append(state_copy)\n",
    "        if done and step_count < 200:\n",
    "            goal_x_positions.append(state[0])\n",
    "            print state[0]\n",
    "            print reward\n",
    "        \n",
    "data = np.array(data)\n",
    "x_pos_normalized = (data[:, 0] - np.mean(data[:, 0])) / np.std(data[:, 0])\n",
    "velocity_normalized = (data[:, 1] - np.mean(data[:, 1])) / np.std(data[:, 1])\n",
    "reward_normalized = (data[:, 2] - np.mean(data[:, 2])) / np.std(data[:, 2])\n",
    "data_normalized = zip(x_pos_normalized, velocity_normalized, reward_normalized)\n",
    "# data_normalized = zip(x_pos_normalized, velocity_normalized)\n",
    "\n",
    "estimator = KMeans(n_clusters=5)\n",
    "estimator.fit(data_normalized)\n",
    "\n",
    "labels = estimator.labels_\n",
    "print estimator.cluster_centers_[:,0:2]\n",
    "\n",
    "print goal_x_positions\n",
    "\n",
    "plt.scatter(data[:,0], data[:,1], c=labels.astype(np.float))\n",
    "plt.xlabel('X Position')\n",
    "plt.ylabel('Velocity')\n",
    "plt.show()"
   ]
  },
  {
   "cell_type": "code",
   "execution_count": 12,
   "metadata": {},
   "outputs": [
    {
     "data": {
      "text/plain": [
       "array([0], dtype=int32)"
      ]
     },
     "execution_count": 12,
     "metadata": {},
     "output_type": "execute_result"
    }
   ],
   "source": [
    "from sklearn.neighbors import KNeighborsClassifier\n",
    "import numpy as np\n",
    "neigh = KNeighborsClassifier(n_neighbors=9)\n",
    "neigh.fit(data, labels) \n",
    "neigh.predict([[0, 0, 0]])\n",
    "\n"
   ]
  },
  {
   "cell_type": "code",
   "execution_count": null,
   "metadata": {},
   "outputs": [],
   "source": [
    "'''\n",
    "Cluster by x-position and velocity separately.\n",
    "'''\n",
    "\n",
    "data = []\n",
    "goal_x_positions = []\n",
    "\n",
    "for episode in xrange(100):\n",
    "    state = env.reset()\n",
    "    state_copy = state[:]\n",
    "    state_copy = np.append(state_copy, -1)\n",
    "    data.append(state_copy)\n",
    "    done = False\n",
    "    step_count = 0\n",
    "    while not done:\n",
    "        step_count +=1\n",
    "        action = random.randint(0, len(VALID_ACTIONS) - 1)\n",
    "        next_state, reward, done, _ = env.step(action)\n",
    "        if reward >= 1:\n",
    "            reward = 100000000000000000000\n",
    "        state = next_state\n",
    "        state_copy = state[:]\n",
    "        state_copy = np.append(state_copy, reward)\n",
    "        data.append(state_copy)\n",
    "        if done and step_count < 200:\n",
    "            goal_x_positions.append(state[0])\n",
    "            print state[0]\n",
    "            print reward\n",
    "        \n",
    "data = np.array(data)\n",
    "x_pos_normalized = (data[:, 0] - np.mean(data[:, 0])) / np.std(data[:, 0])\n",
    "velocity_normalized = (data[:, 1] - np.mean(data[:, 1])) / np.std(data[:, 1])\n",
    "reward_normalized = (data[:, 2] - np.mean(data[:, 2])) / np.std(data[:, 2])\n",
    "data_normalized = zip(x_pos_normalized, velocity_normalized, reward_normalized)\n",
    "# data_normalized = zip(x_pos_normalized, velocity_normalized)\n",
    "\n",
    "estimator_x = KMeans(n_clusters=3)\n",
    "estimator_v = KMeans(n_clusters=3)\n",
    "\n",
    "estimator_x.fit(x_pos_normalized)\n",
    "estimator_v.fit(velocity_normalized)\n",
    "\n",
    "labels_x = estimator_x.labels_\n",
    "labels_v = estimator_v.labels_\n",
    "\n",
    "plt.figure()\n",
    "plt.hlines(1,1,20)  # Draw a horizontal line\n",
    "plt.eventplot(data[:, 0], orientation='horizontal', colors=labels_x)\n",
    "plt.axis('off')\n",
    "plt.show()\n",
    "\n",
    "# plt.scatter(data[:,0], data[:,1], c=labels.astype(np.float))\n",
    "# plt.xlabel('X Position')\n",
    "# plt.ylabel('Velocity')\n",
    "# plt.show()"
   ]
  }
 ],
 "metadata": {
  "kernelspec": {
   "display_name": "Python 2",
   "language": "python",
   "name": "python2"
  },
  "language_info": {
   "codemirror_mode": {
    "name": "ipython",
    "version": 2
   },
   "file_extension": ".py",
   "mimetype": "text/x-python",
   "name": "python",
   "nbconvert_exporter": "python",
   "pygments_lexer": "ipython2",
   "version": "2.7.13"
  }
 },
 "nbformat": 4,
 "nbformat_minor": 2
}
